{
 "cells": [
  {
   "cell_type": "code",
   "execution_count": 1,
   "metadata": {},
   "outputs": [
    {
     "data": {
      "text/plain": [
       "'%.3f'"
      ]
     },
     "execution_count": 1,
     "metadata": {},
     "output_type": "execute_result"
    }
   ],
   "source": [
    "#一般的なライブラリ\n",
    "import numpy as np\n",
    "import scipy as s\n",
    "import pandas as pd\n",
    "from pandas import Series, DataFrame\n",
    "\n",
    "#可視化ライブラリ\n",
    "import matplotlib.pyplot as plt\n",
    "import matplotlib as mpl\n",
    "import seaborn as sns\n",
    "sns.set()\n",
    "\n",
    "#jupyterでグラフを表示可能にするマジックコマンド\n",
    "%matplotlib inline\n",
    "\n",
    "#少数第3位まで表示\n",
    "%precision 3"
   ]
  },
  {
   "cell_type": "code",
   "execution_count": 2,
   "metadata": {},
   "outputs": [
    {
     "name": "stdout",
     "output_type": "stream",
     "text": [
      "C:\\Users\\kenshin\\Documents\\Dev\\Data_science\\SSDSE-2020\n"
     ]
    }
   ],
   "source": [
    "cd ./data"
   ]
  },
  {
   "cell_type": "code",
   "execution_count": 3,
   "metadata": {},
   "outputs": [],
   "source": [
    "data_c = pd.read_csv(\"SSDSE-2020C.csv\", encoding=\"shift-jis\", header=1)"
   ]
  },
  {
   "cell_type": "code",
   "execution_count": 4,
   "metadata": {},
   "outputs": [
    {
     "data": {
      "text/html": [
       "<div>\n",
       "<style scoped>\n",
       "    .dataframe tbody tr th:only-of-type {\n",
       "        vertical-align: middle;\n",
       "    }\n",
       "\n",
       "    .dataframe tbody tr th {\n",
       "        vertical-align: top;\n",
       "    }\n",
       "\n",
       "    .dataframe thead th {\n",
       "        text-align: right;\n",
       "    }\n",
       "</style>\n",
       "<table border=\"1\" class=\"dataframe\">\n",
       "  <thead>\n",
       "    <tr style=\"text-align: right;\">\n",
       "      <th></th>\n",
       "      <th>地域コード</th>\n",
       "      <th>都道府県</th>\n",
       "      <th>市</th>\n",
       "      <th>世帯人員</th>\n",
       "      <th>食料（合計）</th>\n",
       "      <th>01　穀類</th>\n",
       "      <th>米</th>\n",
       "      <th>食パン</th>\n",
       "      <th>他のパン</th>\n",
       "      <th>生うどん・そば</th>\n",
       "      <th>...</th>\n",
       "      <th>すし（外食）</th>\n",
       "      <th>和食</th>\n",
       "      <th>中華食</th>\n",
       "      <th>洋食</th>\n",
       "      <th>焼肉</th>\n",
       "      <th>ハンバーガー</th>\n",
       "      <th>他の主食的外食</th>\n",
       "      <th>喫茶代</th>\n",
       "      <th>飲酒代</th>\n",
       "      <th>学校給食</th>\n",
       "    </tr>\n",
       "  </thead>\n",
       "  <tbody>\n",
       "    <tr>\n",
       "      <th>0</th>\n",
       "      <td>R00000</td>\n",
       "      <td>全国</td>\n",
       "      <td>全国</td>\n",
       "      <td>2.98</td>\n",
       "      <td>954715</td>\n",
       "      <td>77480</td>\n",
       "      <td>23736</td>\n",
       "      <td>9461</td>\n",
       "      <td>21430</td>\n",
       "      <td>3322</td>\n",
       "      <td>...</td>\n",
       "      <td>14885</td>\n",
       "      <td>23048</td>\n",
       "      <td>4838</td>\n",
       "      <td>12927</td>\n",
       "      <td>7082</td>\n",
       "      <td>4141</td>\n",
       "      <td>54404</td>\n",
       "      <td>7005</td>\n",
       "      <td>18785</td>\n",
       "      <td>10081</td>\n",
       "    </tr>\n",
       "    <tr>\n",
       "      <th>1</th>\n",
       "      <td>R01100</td>\n",
       "      <td>北海道</td>\n",
       "      <td>札幌市</td>\n",
       "      <td>2.96</td>\n",
       "      <td>910399</td>\n",
       "      <td>81474</td>\n",
       "      <td>30994</td>\n",
       "      <td>8496</td>\n",
       "      <td>18942</td>\n",
       "      <td>2973</td>\n",
       "      <td>...</td>\n",
       "      <td>19850</td>\n",
       "      <td>23858</td>\n",
       "      <td>4510</td>\n",
       "      <td>17165</td>\n",
       "      <td>7681</td>\n",
       "      <td>3688</td>\n",
       "      <td>22506</td>\n",
       "      <td>5665</td>\n",
       "      <td>26189</td>\n",
       "      <td>15619</td>\n",
       "    </tr>\n",
       "    <tr>\n",
       "      <th>2</th>\n",
       "      <td>R02201</td>\n",
       "      <td>青森県</td>\n",
       "      <td>青森市</td>\n",
       "      <td>2.98</td>\n",
       "      <td>878930</td>\n",
       "      <td>71992</td>\n",
       "      <td>23773</td>\n",
       "      <td>7777</td>\n",
       "      <td>17336</td>\n",
       "      <td>2777</td>\n",
       "      <td>...</td>\n",
       "      <td>13293</td>\n",
       "      <td>15006</td>\n",
       "      <td>3560</td>\n",
       "      <td>9825</td>\n",
       "      <td>7356</td>\n",
       "      <td>3107</td>\n",
       "      <td>13222</td>\n",
       "      <td>2571</td>\n",
       "      <td>14178</td>\n",
       "      <td>10745</td>\n",
       "    </tr>\n",
       "    <tr>\n",
       "      <th>3</th>\n",
       "      <td>R03201</td>\n",
       "      <td>岩手県</td>\n",
       "      <td>盛岡市</td>\n",
       "      <td>3.15</td>\n",
       "      <td>951176</td>\n",
       "      <td>80203</td>\n",
       "      <td>25867</td>\n",
       "      <td>8270</td>\n",
       "      <td>20622</td>\n",
       "      <td>3198</td>\n",
       "      <td>...</td>\n",
       "      <td>13807</td>\n",
       "      <td>9810</td>\n",
       "      <td>2012</td>\n",
       "      <td>6563</td>\n",
       "      <td>6897</td>\n",
       "      <td>3244</td>\n",
       "      <td>47307</td>\n",
       "      <td>4708</td>\n",
       "      <td>23046</td>\n",
       "      <td>9892</td>\n",
       "    </tr>\n",
       "    <tr>\n",
       "      <th>4</th>\n",
       "      <td>R04100</td>\n",
       "      <td>宮城県</td>\n",
       "      <td>仙台市</td>\n",
       "      <td>3.00</td>\n",
       "      <td>958380</td>\n",
       "      <td>70942</td>\n",
       "      <td>20207</td>\n",
       "      <td>7972</td>\n",
       "      <td>18989</td>\n",
       "      <td>2967</td>\n",
       "      <td>...</td>\n",
       "      <td>14055</td>\n",
       "      <td>15250</td>\n",
       "      <td>3440</td>\n",
       "      <td>8676</td>\n",
       "      <td>7059</td>\n",
       "      <td>3444</td>\n",
       "      <td>44302</td>\n",
       "      <td>5568</td>\n",
       "      <td>15944</td>\n",
       "      <td>7561</td>\n",
       "    </tr>\n",
       "  </tbody>\n",
       "</table>\n",
       "<p>5 rows × 230 columns</p>\n",
       "</div>"
      ],
      "text/plain": [
       "    地域コード 都道府県    市  世帯人員  食料（合計）  01　穀類      米   食パン   他のパン  生うどん・そば  ...  \\\n",
       "0  R00000   全国   全国  2.98  954715  77480  23736  9461  21430     3322  ...   \n",
       "1  R01100  北海道  札幌市  2.96  910399  81474  30994  8496  18942     2973  ...   \n",
       "2  R02201  青森県  青森市  2.98  878930  71992  23773  7777  17336     2777  ...   \n",
       "3  R03201  岩手県  盛岡市  3.15  951176  80203  25867  8270  20622     3198  ...   \n",
       "4  R04100  宮城県  仙台市  3.00  958380  70942  20207  7972  18989     2967  ...   \n",
       "\n",
       "   すし（外食）     和食   中華食     洋食    焼肉  ハンバーガー  他の主食的外食   喫茶代    飲酒代   学校給食  \n",
       "0   14885  23048  4838  12927  7082    4141    54404  7005  18785  10081  \n",
       "1   19850  23858  4510  17165  7681    3688    22506  5665  26189  15619  \n",
       "2   13293  15006  3560   9825  7356    3107    13222  2571  14178  10745  \n",
       "3   13807   9810  2012   6563  6897    3244    47307  4708  23046   9892  \n",
       "4   14055  15250  3440   8676  7059    3444    44302  5568  15944   7561  \n",
       "\n",
       "[5 rows x 230 columns]"
      ]
     },
     "execution_count": 4,
     "metadata": {},
     "output_type": "execute_result"
    }
   ],
   "source": [
    "data_c.head()"
   ]
  },
  {
   "cell_type": "code",
   "execution_count": 5,
   "metadata": {},
   "outputs": [
    {
     "name": "stdout",
     "output_type": "stream",
     "text": [
      "<class 'pandas.core.frame.DataFrame'>\n",
      "RangeIndex: 48 entries, 0 to 47\n",
      "Columns: 230 entries, 地域コード to 学校給食\n",
      "dtypes: float64(1), int64(226), object(3)\n",
      "memory usage: 86.4+ KB\n"
     ]
    }
   ],
   "source": [
    "#すべてのカラム情報\n",
    "data_c.info()"
   ]
  },
  {
   "cell_type": "code",
   "execution_count": null,
   "metadata": {},
   "outputs": [],
   "source": [
    "#16.世帯人数が3未満の都道府県はいくつありますか？\n",
    "#17.「マヨネーズ・マヨネーズ風調味料」の金額が最も少ない都道府県はどこですか？また，いくらですか？\n",
    "#18.カップ麺と即席麺を合計した金額が多い都道府県の上位3つはどこですか？金額も回答してください．\n",
    "#19.飲酒代が最も多い都道府県と少ない都道府県はどこですか？またいくらの差がありますか？\n",
    "#20.鳥取県（鳥取市）の消費支出が島根県（松江市）よりも多い「（米，食パンといった）品目」は何ですか？消費支出の差が大きい第4位～第7位を回答してください．ただし，X01.穀類などの中分類は除きます．ヒント：中分類を除いて最も消費支出の差が大きいのは「学校給食」です．"
   ]
  }
 ],
 "metadata": {
  "kernelspec": {
   "display_name": "Python 3",
   "language": "python",
   "name": "python3"
  },
  "language_info": {
   "codemirror_mode": {
    "name": "ipython",
    "version": 3
   },
   "file_extension": ".py",
   "mimetype": "text/x-python",
   "name": "python",
   "nbconvert_exporter": "python",
   "pygments_lexer": "ipython3",
   "version": "3.8.5"
  }
 },
 "nbformat": 4,
 "nbformat_minor": 4
}
